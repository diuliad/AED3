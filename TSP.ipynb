{
  "nbformat": 4,
  "nbformat_minor": 0,
  "metadata": {
    "colab": {
      "provenance": [],
      "include_colab_link": true
    },
    "kernelspec": {
      "name": "python3",
      "display_name": "Python 3"
    },
    "language_info": {
      "name": "python"
    }
  },
  "cells": [
    {
      "cell_type": "markdown",
      "metadata": {
        "id": "view-in-github",
        "colab_type": "text"
      },
      "source": [
        "<a href=\"https://colab.research.google.com/github/diuliad/AED3/blob/main/AED3.ipynb\" target=\"_parent\"><img src=\"https://colab.research.google.com/assets/colab-badge.svg\" alt=\"Open In Colab\"/></a>"
      ]
    },
    {
      "cell_type": "code",
      "execution_count": 10,
      "metadata": {
        "id": "D2BVBUQSvOpE"
      },
      "outputs": [],
      "source": [
        "from time import time\n",
        "from itertools import permutations\n",
        "from scipy.sparse.csgraph import minimum_spanning_tree\n",
        "import matplotlib.pyplot as plt\n",
        "import numpy as np"
      ]
    },
    {
      "cell_type": "code",
      "source": [
        "from google.colab import files\n",
        "\n",
        "uploaded = files.upload()"
      ],
      "metadata": {
        "id": "rOqyfykFvTM6",
        "colab": {
          "base_uri": "https://localhost:8080/",
          "height": 212
        },
        "outputId": "b0f752e3-491d-49f7-be0a-0f5b77d78b64"
      },
      "execution_count": 11,
      "outputs": [
        {
          "output_type": "display_data",
          "data": {
            "text/plain": [
              "<IPython.core.display.HTML object>"
            ],
            "text/html": [
              "\n",
              "     <input type=\"file\" id=\"files-c3f929cf-22ec-4dc2-ad2e-dbf4df533769\" name=\"files[]\" multiple disabled\n",
              "        style=\"border:none\" />\n",
              "     <output id=\"result-c3f929cf-22ec-4dc2-ad2e-dbf4df533769\">\n",
              "      Upload widget is only available when the cell has been executed in the\n",
              "      current browser session. Please rerun this cell to enable.\n",
              "      </output>\n",
              "      <script>// Copyright 2017 Google LLC\n",
              "//\n",
              "// Licensed under the Apache License, Version 2.0 (the \"License\");\n",
              "// you may not use this file except in compliance with the License.\n",
              "// You may obtain a copy of the License at\n",
              "//\n",
              "//      http://www.apache.org/licenses/LICENSE-2.0\n",
              "//\n",
              "// Unless required by applicable law or agreed to in writing, software\n",
              "// distributed under the License is distributed on an \"AS IS\" BASIS,\n",
              "// WITHOUT WARRANTIES OR CONDITIONS OF ANY KIND, either express or implied.\n",
              "// See the License for the specific language governing permissions and\n",
              "// limitations under the License.\n",
              "\n",
              "/**\n",
              " * @fileoverview Helpers for google.colab Python module.\n",
              " */\n",
              "(function(scope) {\n",
              "function span(text, styleAttributes = {}) {\n",
              "  const element = document.createElement('span');\n",
              "  element.textContent = text;\n",
              "  for (const key of Object.keys(styleAttributes)) {\n",
              "    element.style[key] = styleAttributes[key];\n",
              "  }\n",
              "  return element;\n",
              "}\n",
              "\n",
              "// Max number of bytes which will be uploaded at a time.\n",
              "const MAX_PAYLOAD_SIZE = 100 * 1024;\n",
              "\n",
              "function _uploadFiles(inputId, outputId) {\n",
              "  const steps = uploadFilesStep(inputId, outputId);\n",
              "  const outputElement = document.getElementById(outputId);\n",
              "  // Cache steps on the outputElement to make it available for the next call\n",
              "  // to uploadFilesContinue from Python.\n",
              "  outputElement.steps = steps;\n",
              "\n",
              "  return _uploadFilesContinue(outputId);\n",
              "}\n",
              "\n",
              "// This is roughly an async generator (not supported in the browser yet),\n",
              "// where there are multiple asynchronous steps and the Python side is going\n",
              "// to poll for completion of each step.\n",
              "// This uses a Promise to block the python side on completion of each step,\n",
              "// then passes the result of the previous step as the input to the next step.\n",
              "function _uploadFilesContinue(outputId) {\n",
              "  const outputElement = document.getElementById(outputId);\n",
              "  const steps = outputElement.steps;\n",
              "\n",
              "  const next = steps.next(outputElement.lastPromiseValue);\n",
              "  return Promise.resolve(next.value.promise).then((value) => {\n",
              "    // Cache the last promise value to make it available to the next\n",
              "    // step of the generator.\n",
              "    outputElement.lastPromiseValue = value;\n",
              "    return next.value.response;\n",
              "  });\n",
              "}\n",
              "\n",
              "/**\n",
              " * Generator function which is called between each async step of the upload\n",
              " * process.\n",
              " * @param {string} inputId Element ID of the input file picker element.\n",
              " * @param {string} outputId Element ID of the output display.\n",
              " * @return {!Iterable<!Object>} Iterable of next steps.\n",
              " */\n",
              "function* uploadFilesStep(inputId, outputId) {\n",
              "  const inputElement = document.getElementById(inputId);\n",
              "  inputElement.disabled = false;\n",
              "\n",
              "  const outputElement = document.getElementById(outputId);\n",
              "  outputElement.innerHTML = '';\n",
              "\n",
              "  const pickedPromise = new Promise((resolve) => {\n",
              "    inputElement.addEventListener('change', (e) => {\n",
              "      resolve(e.target.files);\n",
              "    });\n",
              "  });\n",
              "\n",
              "  const cancel = document.createElement('button');\n",
              "  inputElement.parentElement.appendChild(cancel);\n",
              "  cancel.textContent = 'Cancel upload';\n",
              "  const cancelPromise = new Promise((resolve) => {\n",
              "    cancel.onclick = () => {\n",
              "      resolve(null);\n",
              "    };\n",
              "  });\n",
              "\n",
              "  // Wait for the user to pick the files.\n",
              "  const files = yield {\n",
              "    promise: Promise.race([pickedPromise, cancelPromise]),\n",
              "    response: {\n",
              "      action: 'starting',\n",
              "    }\n",
              "  };\n",
              "\n",
              "  cancel.remove();\n",
              "\n",
              "  // Disable the input element since further picks are not allowed.\n",
              "  inputElement.disabled = true;\n",
              "\n",
              "  if (!files) {\n",
              "    return {\n",
              "      response: {\n",
              "        action: 'complete',\n",
              "      }\n",
              "    };\n",
              "  }\n",
              "\n",
              "  for (const file of files) {\n",
              "    const li = document.createElement('li');\n",
              "    li.append(span(file.name, {fontWeight: 'bold'}));\n",
              "    li.append(span(\n",
              "        `(${file.type || 'n/a'}) - ${file.size} bytes, ` +\n",
              "        `last modified: ${\n",
              "            file.lastModifiedDate ? file.lastModifiedDate.toLocaleDateString() :\n",
              "                                    'n/a'} - `));\n",
              "    const percent = span('0% done');\n",
              "    li.appendChild(percent);\n",
              "\n",
              "    outputElement.appendChild(li);\n",
              "\n",
              "    const fileDataPromise = new Promise((resolve) => {\n",
              "      const reader = new FileReader();\n",
              "      reader.onload = (e) => {\n",
              "        resolve(e.target.result);\n",
              "      };\n",
              "      reader.readAsArrayBuffer(file);\n",
              "    });\n",
              "    // Wait for the data to be ready.\n",
              "    let fileData = yield {\n",
              "      promise: fileDataPromise,\n",
              "      response: {\n",
              "        action: 'continue',\n",
              "      }\n",
              "    };\n",
              "\n",
              "    // Use a chunked sending to avoid message size limits. See b/62115660.\n",
              "    let position = 0;\n",
              "    do {\n",
              "      const length = Math.min(fileData.byteLength - position, MAX_PAYLOAD_SIZE);\n",
              "      const chunk = new Uint8Array(fileData, position, length);\n",
              "      position += length;\n",
              "\n",
              "      const base64 = btoa(String.fromCharCode.apply(null, chunk));\n",
              "      yield {\n",
              "        response: {\n",
              "          action: 'append',\n",
              "          file: file.name,\n",
              "          data: base64,\n",
              "        },\n",
              "      };\n",
              "\n",
              "      let percentDone = fileData.byteLength === 0 ?\n",
              "          100 :\n",
              "          Math.round((position / fileData.byteLength) * 100);\n",
              "      percent.textContent = `${percentDone}% done`;\n",
              "\n",
              "    } while (position < fileData.byteLength);\n",
              "  }\n",
              "\n",
              "  // All done.\n",
              "  yield {\n",
              "    response: {\n",
              "      action: 'complete',\n",
              "    }\n",
              "  };\n",
              "}\n",
              "\n",
              "scope.google = scope.google || {};\n",
              "scope.google.colab = scope.google.colab || {};\n",
              "scope.google.colab._files = {\n",
              "  _uploadFiles,\n",
              "  _uploadFilesContinue,\n",
              "};\n",
              "})(self);\n",
              "</script> "
            ]
          },
          "metadata": {}
        },
        {
          "output_type": "stream",
          "name": "stdout",
          "text": [
            "Saving tsp1_253.txt to tsp1_253 (1).txt\n",
            "Saving tsp2_1248.txt to tsp2_1248 (1).txt\n",
            "Saving tsp3_1194.txt to tsp3_1194 (1).txt\n",
            "Saving tsp4_7013.txt to tsp4_7013 (1).txt\n",
            "Saving tsp5_27603.txt to tsp5_27603 (1).txt\n"
          ]
        }
      ]
    },
    {
      "cell_type": "code",
      "source": [
        "import os\n",
        "os.listdir('/content')"
      ],
      "metadata": {
        "id": "Aug5huemx0qs",
        "colab": {
          "base_uri": "https://localhost:8080/"
        },
        "outputId": "c1ab5988-4450-4434-ca21-dbf90ddcef4a"
      },
      "execution_count": 12,
      "outputs": [
        {
          "output_type": "execute_result",
          "data": {
            "text/plain": [
              "['.config',\n",
              " 'tsp3_1194.txt',\n",
              " 'tsp5_27603.txt',\n",
              " 'tsp3_1194 (1).txt',\n",
              " 'tsp1_253 (1).txt',\n",
              " 'tsp1_253.txt',\n",
              " 'tsp2_1248.txt',\n",
              " 'tsp5_27603 (1).txt',\n",
              " 'tsp4_7013.txt',\n",
              " 'tsp2_1248 (1).txt',\n",
              " 'tsp4_7013 (1).txt',\n",
              " 'sample_data']"
            ]
          },
          "metadata": {},
          "execution_count": 12
        }
      ]
    },
    {
      "cell_type": "code",
      "source": [
        "# funcao pra ler a matriz de adjacencia do arquivo\n",
        "def read_matrix_file(file):\n",
        "    with open(file) as matrix_file:\n",
        "        matrix = [list(map(int, line.split())) for line in matrix_file]\n",
        "    return matrix"
      ],
      "metadata": {
        "id": "sv5erQvfwFEs"
      },
      "execution_count": 13,
      "outputs": []
    },
    {
      "cell_type": "code",
      "source": [
        "#funcao pra calcular o custo do caminho.\n",
        "def calculate_path_cost(matrix, path):\n",
        "    tsp_cost = 0\n",
        "    nodes = range(len(matrix))\n",
        "    for index in nodes:\n",
        "        line = path[index]\n",
        "        column = path[index + 1]\n",
        "        edge_weight = matrix[line][column]\n",
        "        tsp_cost += edge_weight\n",
        "    return tsp_cost"
      ],
      "metadata": {
        "id": "80CrptxewGhV"
      },
      "execution_count": 14,
      "outputs": []
    },
    {
      "cell_type": "code",
      "source": [
        "#algoritmo aproximativo para o TSP usando MST\n",
        "def approximate_tsp(matrix, initial_node=0):\n",
        "    MST = minimum_spanning_tree(matrix).toarray().astype(int)\n",
        "    nodes = range(len(MST))\n",
        "    path = [initial_node]\n",
        "    current_node = initial_node\n",
        "    previous_node = -1\n",
        "\n",
        "    while len(set(path)) != len(nodes):\n",
        "        for connected_node in nodes:\n",
        "            if MST[current_node, connected_node] == 0 and MST[connected_node, current_node] == 0:\n",
        "                continue\n",
        "            elif connected_node in path:\n",
        "                continue\n",
        "            else:\n",
        "                path.append(connected_node)\n",
        "                current_node = connected_node\n",
        "                previous_node = -1\n",
        "                break\n",
        "        else:\n",
        "            current_node = path[previous_node]\n",
        "            previous_node -= 1\n",
        "\n",
        "    path.append(initial_node)\n",
        "    tsp_cost = calculate_path_cost(matrix, path)\n",
        "    return tsp_cost, path"
      ],
      "metadata": {
        "id": "TCp9Ps7dwK_p"
      },
      "execution_count": 15,
      "outputs": []
    },
    {
      "cell_type": "code",
      "source": [
        "#algoritmo exato para o TSP com Brute force\n",
        "from itertools import permutations\n",
        "\n",
        "def brute_force_tsp(matrix):\n",
        "    nodes = list(range(len(matrix)))\n",
        "    min_cost = float(\"inf\")\n",
        "    min_path = []\n",
        "\n",
        "    for perm in permutations(nodes):\n",
        "        path = list(perm) + [perm[0]]\n",
        "        cost = calculate_path_cost(matrix, path)\n",
        "        if cost < min_cost:\n",
        "            min_cost = cost\n",
        "            min_path = path\n",
        "\n",
        "    return min_cost, min_path\n",
        "\n",
        "#func pra comparar os algoritmos e gerar os resultados\n",
        "def compare_algorithms(matrix_file, run_brute_force=False):\n",
        "    matrix = read_matrix_file(matrix_file)\n",
        "    costs = dict()"
      ],
      "metadata": {
        "id": "GR2YqQlPwN_-"
      },
      "execution_count": 16,
      "outputs": []
    },
    {
      "cell_type": "code",
      "source": [
        "#funcao para comparar os algoritmos\n",
        "def compare_algorithms(matrix_file, run_brute_force=False):\n",
        "    matrix = read_matrix_file(matrix_file)\n",
        "\n",
        "    #teste com o algoritmo aproximativo\n",
        "    costs = {}\n",
        "    for initial_node in range(len(matrix)):\n",
        "        start_time = time()\n",
        "        cost, approximate_path = approximate_tsp(matrix, initial_node=initial_node)\n",
        "        approximate_time = time() - start_time\n",
        "        costs[cost] = {\"path\": approximate_path, \"time\": approximate_time}\n",
        "\n",
        "    #melhor resultado do algoritmo aproximativo\n",
        "    min_cost = min(costs.keys())\n",
        "    min_path = costs[min_cost][\"path\"]\n",
        "    min_time = costs[min_cost][\"time\"]\n",
        "\n",
        "    #valor otimo\n",
        "    file_name = matrix_file.split('/').pop()\n",
        "    optimal_cost = int(file_name.split('_')[1].split('.')[0])\n",
        "\n",
        "    #teste com o algoritmo exato\n",
        "    bf_cost = \"--\"\n",
        "    bf_time = \"--\"\n",
        "\n",
        "    if run_brute_force:\n",
        "        start_time = time()\n",
        "        bf_cost, bf_path = brute_force_tsp(matrix)\n",
        "        bf_time = time() - start_time\n",
        "\n",
        "    return file_name, min_cost, min_time, optimal_cost, bf_cost, bf_time\n"
      ],
      "metadata": {
        "id": "Xs29YoUewVIG"
      },
      "execution_count": 17,
      "outputs": []
    },
    {
      "cell_type": "code",
      "source": [
        "#listagem dos arquivos e configuração dos testes\n",
        "files = [\n",
        "    (\"tsp1_253.txt\", True),\n",
        "    (\"tsp2_1248.txt\", True),\n",
        "    (\"tsp3_1194.txt\", False),\n",
        "    (\"tsp4_7013.txt\", False),\n",
        "    (\"tsp5_27603.txt\", False)\n",
        "]\n",
        "\n",
        "#testando os arquivos\n",
        "print(\"TSP\\t\\tAA Cost\\t\\tAA Time\\t\\tOptimal Cost\\tBF Cost\\t\\tBF Time\")\n",
        "for tsp_file in files:\n",
        "    tsp, brute_force = tsp_file\n",
        "    tsp, ap_cost, ap_time, optimal_cost, bf_cost, bf_time = compare_algorithms(\n",
        "        tsp, run_brute_force=brute_force\n",
        "    )\n",
        "\n",
        "    if brute_force:\n",
        "        print(f'{tsp}\\t\\t{ap_cost}\\t\\t{ap_time:.5f}\\t\\t{optimal_cost}\\t\\t{bf_cost}\\t\\t{bf_time:.5f}')\n",
        "    else:\n",
        "        print(f'{tsp}\\t\\t{ap_cost}\\t\\t{ap_time:.5f}\\t\\t{optimal_cost}\\t\\t{bf_cost}\\t\\t{bf_time}')\n",
        "\n"
      ],
      "metadata": {
        "id": "jCCTK2EHxdvv"
      },
      "execution_count": null,
      "outputs": []
    }
  ]
}
